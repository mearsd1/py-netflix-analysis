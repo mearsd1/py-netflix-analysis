{
 "cells": [
  {
   "cell_type": "code",
   "execution_count": 101,
   "metadata": {},
   "outputs": [],
   "source": [
    "import pandas as pd\n",
    "import matplotlib.pyplot as plt"
   ]
  },
  {
   "cell_type": "code",
   "execution_count": 102,
   "metadata": {},
   "outputs": [],
   "source": [
    "# import netflix data csv.\n",
    "df = pd.read_csv('viewing-activity-data.csv')"
   ]
  },
  {
   "cell_type": "code",
   "execution_count": 103,
   "metadata": {},
   "outputs": [],
   "source": [
    "# remove coulumns you do not want to analyze by adding them to df.drop\n",
    "df = df.drop(['Attributes', 'Supplemental Video Type', 'Device Type', 'Bookmark', 'Latest Bookmark', 'Country'], axis=1)"
   ]
  },
  {
   "cell_type": "code",
   "execution_count": 104,
   "metadata": {},
   "outputs": [],
   "source": [
    "# convert Start Time from object to datetime\n",
    "# attach UTC to datetime format \n",
    "df['Start Time'] = pd.to_datetime(df['Start Time'], utc=True)"
   ]
  },
  {
   "cell_type": "code",
   "execution_count": 105,
   "metadata": {},
   "outputs": [],
   "source": [
    "# change Start Time column into the dataframe's index\n",
    "df = df.set_index('Start Time')\n",
    "\n",
    "# convert from UTC to eastern time\n",
    "df.index = df.index.tz_convert('US/Eastern')\n",
    "\n",
    "# reset the index so that Start Time becomes a column again\n",
    "df = df.reset_index()"
   ]
  },
  {
   "cell_type": "code",
   "execution_count": 106,
   "metadata": {},
   "outputs": [],
   "source": [
    "# convert Duration from object to timedelta\n",
    "df['Duration'] = pd.to_timedelta(df['Duration'])"
   ]
  },
  {
   "cell_type": "code",
   "execution_count": 107,
   "metadata": {},
   "outputs": [],
   "source": [
    "# group and sum profile watch time\n",
    "df_groupby_profile = df.groupby(['Profile Name'], as_index=False)['Duration'].sum()"
   ]
  },
  {
   "cell_type": "code",
   "execution_count": 108,
   "metadata": {},
   "outputs": [],
   "source": [
    "# rounds to days\n",
    "df_groupby_profile['Duration'] = df_groupby_profile['Duration'].dt.days"
   ]
  },
  {
   "cell_type": "code",
   "execution_count": 109,
   "metadata": {},
   "outputs": [],
   "source": [
    "# convert Duration from timedelta to numeric for graphing\n",
    "df_groupby_profile['Duration'] = pd.to_numeric(df_groupby_profile['Duration'])"
   ]
  },
  {
   "cell_type": "code",
   "execution_count": 121,
   "metadata": {},
   "outputs": [
    {
     "data": {
      "image/png": "[encoded data removed]",
      "text/plain": [
       "<Figure size 432x288 with 1 Axes>"
      ]
     },
     "metadata": {
      "needs_background": "light"
     },
     "output_type": "display_data"
    }
   ],
   "source": [
    "# create bar graph of each Profile's total Duration(watch time)\n",
    "plt.bar(df_groupby_profile['Profile Name'], df_groupby_profile['Duration'], color = \"#DE0912\")\n",
    "plt.title('Netflix Profile Total Watch Time', fontweight = 'bold', fontsize = 14)\n",
    "plt.xlabel('Profiles', fontweight = 'bold', fontsize = 12)\n",
    "plt.ylabel('Total Watch Time', fontweight = 'bold', fontsize = 12)\n",
    "plt.savefig('Netflix Profile Total Watch Time.png')\n"
   ]
  }
 ],
 "metadata": {
  "interpreter": {
   "hash": "b3f36f56fdfbe06cdd876ab32915570aca8562016b0d32f244c18116453ce799"
  },
  "kernelspec": {
   "display_name": "Python 3.9.7 ('venv': venv)",
   "language": "python",
   "name": "python3"
  },
  "language_info": {
   "codemirror_mode": {
    "name": "ipython",
    "version": 3
   },
   "file_extension": ".py",
   "mimetype": "text/x-python",
   "name": "python",
   "nbconvert_exporter": "python",
   "pygments_lexer": "ipython3",
   "version": "3.9.7"
  },
  "orig_nbformat": 4
 },
 "nbformat": 4,
 "nbformat_minor": 2
}
