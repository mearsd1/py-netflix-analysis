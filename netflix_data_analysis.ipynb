{
 "cells": [
  {
   "cell_type": "code",
   "execution_count": 71,
   "metadata": {},
   "outputs": [],
   "source": [
    "# Questions for class: 1) Should I commit and push my venv? I tried to add it to gitignore, but it isn't working."
   ]
  },
  {
   "cell_type": "code",
   "execution_count": 1,
   "metadata": {},
   "outputs": [],
   "source": [
    "import pandas as pd"
   ]
  },
  {
   "cell_type": "code",
   "execution_count": 2,
   "metadata": {},
   "outputs": [],
   "source": [
    "# import netflix data csv.\n",
    "df = pd.read_csv('viewing-activity-data.csv')"
   ]
  },
  {
   "cell_type": "code",
   "execution_count": 3,
   "metadata": {},
   "outputs": [
    {
     "data": {
      "text/plain": [
       "(39389, 10)"
      ]
     },
     "execution_count": 3,
     "metadata": {},
     "output_type": "execute_result"
    }
   ],
   "source": [
    "# number of rows and columns\n",
    "df.shape"
   ]
  },
  {
   "cell_type": "code",
   "execution_count": 4,
   "metadata": {},
   "outputs": [
    {
     "data": {
      "text/html": [
       "<div>\n",
       "<style scoped>\n",
       "    .dataframe tbody tr th:only-of-type {\n",
       "        vertical-align: middle;\n",
       "    }\n",
       "\n",
       "    .dataframe tbody tr th {\n",
       "        vertical-align: top;\n",
       "    }\n",
       "\n",
       "    .dataframe thead th {\n",
       "        text-align: right;\n",
       "    }\n",
       "</style>\n",
       "<table border=\"1\" class=\"dataframe\">\n",
       "  <thead>\n",
       "    <tr style=\"text-align: right;\">\n",
       "      <th></th>\n",
       "      <th>Profile Name</th>\n",
       "      <th>Start Time</th>\n",
       "      <th>Duration</th>\n",
       "      <th>Attributes</th>\n",
       "      <th>Title</th>\n",
       "      <th>Supplemental Video Type</th>\n",
       "      <th>Device Type</th>\n",
       "      <th>Bookmark</th>\n",
       "      <th>Latest Bookmark</th>\n",
       "      <th>Country</th>\n",
       "    </tr>\n",
       "  </thead>\n",
       "  <tbody>\n",
       "    <tr>\n",
       "      <th>0</th>\n",
       "      <td>Brother Two</td>\n",
       "      <td>2/18/2022 8:36</td>\n",
       "      <td>0:19:03</td>\n",
       "      <td>NaN</td>\n",
       "      <td>Komi Can't Communicate: Season 1: It's just th...</td>\n",
       "      <td>NaN</td>\n",
       "      <td>DefaultWidevineAndroidPhone</td>\n",
       "      <td>0:24:01</td>\n",
       "      <td>0:24:01</td>\n",
       "      <td>US (United States)</td>\n",
       "    </tr>\n",
       "    <tr>\n",
       "      <th>1</th>\n",
       "      <td>Brother Two</td>\n",
       "      <td>2/18/2022 7:10</td>\n",
       "      <td>0:03:43</td>\n",
       "      <td>NaN</td>\n",
       "      <td>Komi Can't Communicate: Season 1: It's just th...</td>\n",
       "      <td>NaN</td>\n",
       "      <td>DefaultWidevineAndroidPhone</td>\n",
       "      <td>0:03:53</td>\n",
       "      <td>Not latest view</td>\n",
       "      <td>US (United States)</td>\n",
       "    </tr>\n",
       "  </tbody>\n",
       "</table>\n",
       "</div>"
      ],
      "text/plain": [
       "  Profile Name      Start Time Duration Attributes  \\\n",
       "0  Brother Two  2/18/2022 8:36  0:19:03        NaN   \n",
       "1  Brother Two  2/18/2022 7:10  0:03:43        NaN   \n",
       "\n",
       "                                               Title Supplemental Video Type  \\\n",
       "0  Komi Can't Communicate: Season 1: It's just th...                     NaN   \n",
       "1  Komi Can't Communicate: Season 1: It's just th...                     NaN   \n",
       "\n",
       "                   Device Type Bookmark  Latest Bookmark             Country  \n",
       "0  DefaultWidevineAndroidPhone  0:24:01          0:24:01  US (United States)  \n",
       "1  DefaultWidevineAndroidPhone  0:03:53  Not latest view  US (United States)  "
      ]
     },
     "execution_count": 4,
     "metadata": {},
     "output_type": "execute_result"
    }
   ],
   "source": [
    "# show data rows.\n",
    "df.head(2)"
   ]
  },
  {
   "cell_type": "code",
   "execution_count": 5,
   "metadata": {},
   "outputs": [
    {
     "data": {
      "text/html": [
       "<div>\n",
       "<style scoped>\n",
       "    .dataframe tbody tr th:only-of-type {\n",
       "        vertical-align: middle;\n",
       "    }\n",
       "\n",
       "    .dataframe tbody tr th {\n",
       "        vertical-align: top;\n",
       "    }\n",
       "\n",
       "    .dataframe thead th {\n",
       "        text-align: right;\n",
       "    }\n",
       "</style>\n",
       "<table border=\"1\" class=\"dataframe\">\n",
       "  <thead>\n",
       "    <tr style=\"text-align: right;\">\n",
       "      <th></th>\n",
       "      <th>Profile Name</th>\n",
       "      <th>Start Time</th>\n",
       "      <th>Duration</th>\n",
       "      <th>Title</th>\n",
       "    </tr>\n",
       "  </thead>\n",
       "  <tbody>\n",
       "    <tr>\n",
       "      <th>0</th>\n",
       "      <td>Brother Two</td>\n",
       "      <td>2/18/2022 8:36</td>\n",
       "      <td>0:19:03</td>\n",
       "      <td>Komi Can't Communicate: Season 1: It's just th...</td>\n",
       "    </tr>\n",
       "    <tr>\n",
       "      <th>1</th>\n",
       "      <td>Brother Two</td>\n",
       "      <td>2/18/2022 7:10</td>\n",
       "      <td>0:03:43</td>\n",
       "      <td>Komi Can't Communicate: Season 1: It's just th...</td>\n",
       "    </tr>\n",
       "  </tbody>\n",
       "</table>\n",
       "</div>"
      ],
      "text/plain": [
       "  Profile Name      Start Time Duration  \\\n",
       "0  Brother Two  2/18/2022 8:36  0:19:03   \n",
       "1  Brother Two  2/18/2022 7:10  0:03:43   \n",
       "\n",
       "                                               Title  \n",
       "0  Komi Can't Communicate: Season 1: It's just th...  \n",
       "1  Komi Can't Communicate: Season 1: It's just th...  "
      ]
     },
     "execution_count": 5,
     "metadata": {},
     "output_type": "execute_result"
    }
   ],
   "source": [
    "# remove coulumns you do not want to analyze by adding them to df.drop\n",
    "# QUESTION: Do you recomend cleaning data in csv or python? \n",
    "df = df.drop(['Attributes', 'Supplemental Video Type', 'Device Type', 'Bookmark', 'Latest Bookmark', 'Country'], axis=1)\n",
    "df.head(2)"
   ]
  },
  {
   "cell_type": "code",
   "execution_count": 6,
   "metadata": {},
   "outputs": [
    {
     "data": {
      "text/plain": [
       "Profile Name    object\n",
       "Start Time      object\n",
       "Duration        object\n",
       "Title           object\n",
       "dtype: object"
      ]
     },
     "execution_count": 6,
     "metadata": {},
     "output_type": "execute_result"
    }
   ],
   "source": [
    "# provides a list of the data types for each column\n",
    "df.dtypes"
   ]
  },
  {
   "cell_type": "code",
   "execution_count": 7,
   "metadata": {},
   "outputs": [
    {
     "data": {
      "text/plain": [
       "Profile Name                 object\n",
       "Start Time      datetime64[ns, UTC]\n",
       "Duration                     object\n",
       "Title                        object\n",
       "dtype: object"
      ]
     },
     "execution_count": 7,
     "metadata": {},
     "output_type": "execute_result"
    }
   ],
   "source": [
    "# convert Start Time from object to datetime\n",
    "# attach UTC to datetime format \n",
    "df['Start Time'] = pd.to_datetime(df['Start Time'], utc=True)\n",
    "df.dtypes"
   ]
  },
  {
   "cell_type": "code",
   "execution_count": 8,
   "metadata": {},
   "outputs": [
    {
     "data": {
      "text/html": [
       "<div>\n",
       "<style scoped>\n",
       "    .dataframe tbody tr th:only-of-type {\n",
       "        vertical-align: middle;\n",
       "    }\n",
       "\n",
       "    .dataframe tbody tr th {\n",
       "        vertical-align: top;\n",
       "    }\n",
       "\n",
       "    .dataframe thead th {\n",
       "        text-align: right;\n",
       "    }\n",
       "</style>\n",
       "<table border=\"1\" class=\"dataframe\">\n",
       "  <thead>\n",
       "    <tr style=\"text-align: right;\">\n",
       "      <th></th>\n",
       "      <th>Start Time</th>\n",
       "      <th>Profile Name</th>\n",
       "      <th>Duration</th>\n",
       "      <th>Title</th>\n",
       "    </tr>\n",
       "  </thead>\n",
       "  <tbody>\n",
       "    <tr>\n",
       "      <th>0</th>\n",
       "      <td>2022-02-18 03:36:00-05:00</td>\n",
       "      <td>Brother Two</td>\n",
       "      <td>0:19:03</td>\n",
       "      <td>Komi Can't Communicate: Season 1: It's just th...</td>\n",
       "    </tr>\n",
       "  </tbody>\n",
       "</table>\n",
       "</div>"
      ],
      "text/plain": [
       "                 Start Time Profile Name Duration  \\\n",
       "0 2022-02-18 03:36:00-05:00  Brother Two  0:19:03   \n",
       "\n",
       "                                               Title  \n",
       "0  Komi Can't Communicate: Season 1: It's just th...  "
      ]
     },
     "execution_count": 8,
     "metadata": {},
     "output_type": "execute_result"
    }
   ],
   "source": [
    "# change Start Time column into the dataframe's index\n",
    "df = df.set_index('Start Time')\n",
    "\n",
    "# convert from UTC to eastern time\n",
    "df.index = df.index.tz_convert('US/Eastern')\n",
    "\n",
    "# reset the index so that Start Time becomes a column again\n",
    "df = df.reset_index()\n",
    "\n",
    "df.head(1)\n"
   ]
  },
  {
   "cell_type": "code",
   "execution_count": 9,
   "metadata": {},
   "outputs": [
    {
     "data": {
      "text/plain": [
       "Start Time      datetime64[ns, US/Eastern]\n",
       "Profile Name                        object\n",
       "Duration                   timedelta64[ns]\n",
       "Title                               object\n",
       "dtype: object"
      ]
     },
     "execution_count": 9,
     "metadata": {},
     "output_type": "execute_result"
    }
   ],
   "source": [
    "# convert Duration from object to timedelta\n",
    "df['Duration'] = pd.to_timedelta(df['Duration'])\n",
    "df.dtypes"
   ]
  },
  {
   "cell_type": "code",
   "execution_count": 10,
   "metadata": {},
   "outputs": [
    {
     "data": {
      "text/html": [
       "<div>\n",
       "<style scoped>\n",
       "    .dataframe tbody tr th:only-of-type {\n",
       "        vertical-align: middle;\n",
       "    }\n",
       "\n",
       "    .dataframe tbody tr th {\n",
       "        vertical-align: top;\n",
       "    }\n",
       "\n",
       "    .dataframe thead th {\n",
       "        text-align: right;\n",
       "    }\n",
       "</style>\n",
       "<table border=\"1\" class=\"dataframe\">\n",
       "  <thead>\n",
       "    <tr style=\"text-align: right;\">\n",
       "      <th></th>\n",
       "      <th>Start Time</th>\n",
       "      <th>Profile Name</th>\n",
       "      <th>Duration</th>\n",
       "      <th>Title</th>\n",
       "    </tr>\n",
       "  </thead>\n",
       "  <tbody>\n",
       "    <tr>\n",
       "      <th>3446</th>\n",
       "      <td>2018-10-22 00:49:00-04:00</td>\n",
       "      <td>Brother Two</td>\n",
       "      <td>0 days 00:22:18</td>\n",
       "      <td>American Horror Story: Cult: Drink the Kool-Ai...</td>\n",
       "    </tr>\n",
       "    <tr>\n",
       "      <th>3435</th>\n",
       "      <td>2018-10-24 00:12:00-04:00</td>\n",
       "      <td>Brother Two</td>\n",
       "      <td>0 days 00:37:48</td>\n",
       "      <td>American Horror Story: Cult: Great Again (Epis...</td>\n",
       "    </tr>\n",
       "    <tr>\n",
       "      <th>34564</th>\n",
       "      <td>2017-12-01 21:59:00-05:00</td>\n",
       "      <td>Me</td>\n",
       "      <td>0 days 00:42:29</td>\n",
       "      <td>American Horror Story: Coven: Boy Parts (Episo...</td>\n",
       "    </tr>\n",
       "    <tr>\n",
       "      <th>6143</th>\n",
       "      <td>2016-10-08 09:27:00-04:00</td>\n",
       "      <td>Brother Two</td>\n",
       "      <td>0 days 00:43:04</td>\n",
       "      <td>American Horror Story: Hotel: Flicker (Episode 7)</td>\n",
       "    </tr>\n",
       "    <tr>\n",
       "      <th>3440</th>\n",
       "      <td>2018-10-23 00:03:00-04:00</td>\n",
       "      <td>Brother Two</td>\n",
       "      <td>0 days 00:05:37</td>\n",
       "      <td>American Horror Story: Cult: Charles (Manson) ...</td>\n",
       "    </tr>\n",
       "    <tr>\n",
       "      <th>3439</th>\n",
       "      <td>2018-10-23 00:13:00-04:00</td>\n",
       "      <td>Brother Two</td>\n",
       "      <td>0 days 00:19:30</td>\n",
       "      <td>American Horror Story: Cult: Charles (Manson) ...</td>\n",
       "    </tr>\n",
       "    <tr>\n",
       "      <th>3451</th>\n",
       "      <td>2018-10-20 03:09:00-04:00</td>\n",
       "      <td>Brother Two</td>\n",
       "      <td>0 days 00:02:56</td>\n",
       "      <td>American Horror Story: Cult: Winter of Our Dis...</td>\n",
       "    </tr>\n",
       "    <tr>\n",
       "      <th>6154</th>\n",
       "      <td>2016-10-05 15:47:00-04:00</td>\n",
       "      <td>Brother Two</td>\n",
       "      <td>0 days 00:06:08</td>\n",
       "      <td>American Horror Story: Hotel: Chutes and Ladde...</td>\n",
       "    </tr>\n",
       "    <tr>\n",
       "      <th>6151</th>\n",
       "      <td>2016-10-06 20:35:00-04:00</td>\n",
       "      <td>Brother Two</td>\n",
       "      <td>0 days 00:52:34</td>\n",
       "      <td>American Horror Story: Hotel: Mommy (Episode 3)</td>\n",
       "    </tr>\n",
       "    <tr>\n",
       "      <th>3461</th>\n",
       "      <td>2018-10-17 02:29:00-04:00</td>\n",
       "      <td>Brother Two</td>\n",
       "      <td>0 days 00:08:16</td>\n",
       "      <td>American Horror Story: Cult: Don't Be Afraid o...</td>\n",
       "    </tr>\n",
       "    <tr>\n",
       "      <th>6140</th>\n",
       "      <td>2016-10-08 12:48:00-04:00</td>\n",
       "      <td>Brother Two</td>\n",
       "      <td>0 days 00:49:57</td>\n",
       "      <td>American Horror Story: Hotel: She Gets Revenge...</td>\n",
       "    </tr>\n",
       "    <tr>\n",
       "      <th>6491</th>\n",
       "      <td>2016-06-16 18:38:00-04:00</td>\n",
       "      <td>Brother Two</td>\n",
       "      <td>0 days 00:00:02</td>\n",
       "      <td>American Horror Story: Murder House: Pilot (Ep...</td>\n",
       "    </tr>\n",
       "    <tr>\n",
       "      <th>3436</th>\n",
       "      <td>2018-10-23 03:20:00-04:00</td>\n",
       "      <td>Brother Two</td>\n",
       "      <td>0 days 00:01:02</td>\n",
       "      <td>American Horror Story: Cult: Charles (Manson) ...</td>\n",
       "    </tr>\n",
       "    <tr>\n",
       "      <th>6162</th>\n",
       "      <td>2016-10-04 20:55:00-04:00</td>\n",
       "      <td>Brother Two</td>\n",
       "      <td>0 days 00:00:02</td>\n",
       "      <td>American Horror Story: Murder House: Pilot (Ep...</td>\n",
       "    </tr>\n",
       "    <tr>\n",
       "      <th>3463</th>\n",
       "      <td>2018-10-16 00:31:00-04:00</td>\n",
       "      <td>Brother Two</td>\n",
       "      <td>0 days 00:23:10</td>\n",
       "      <td>American Horror Story: Cult: Election Night (E...</td>\n",
       "    </tr>\n",
       "    <tr>\n",
       "      <th>3445</th>\n",
       "      <td>2018-10-22 02:44:00-04:00</td>\n",
       "      <td>Brother Two</td>\n",
       "      <td>0 days 00:09:10</td>\n",
       "      <td>American Horror Story: Cult: Drink the Kool-Ai...</td>\n",
       "    </tr>\n",
       "    <tr>\n",
       "      <th>1880</th>\n",
       "      <td>2020-11-13 13:33:00-05:00</td>\n",
       "      <td>Brother Two</td>\n",
       "      <td>0 days 00:00:04</td>\n",
       "      <td>American Horror Story: Freak Show_hook_primary...</td>\n",
       "    </tr>\n",
       "    <tr>\n",
       "      <th>1876</th>\n",
       "      <td>2020-11-13 19:59:00-05:00</td>\n",
       "      <td>Brother Two</td>\n",
       "      <td>0 days 00:00:01</td>\n",
       "      <td>American Horror Story: 1984: Camp Redwood (Epi...</td>\n",
       "    </tr>\n",
       "    <tr>\n",
       "      <th>34565</th>\n",
       "      <td>2017-12-01 21:11:00-05:00</td>\n",
       "      <td>Me</td>\n",
       "      <td>0 days 00:48:26</td>\n",
       "      <td>American Horror Story: Coven: Bitchcraft (Epis...</td>\n",
       "    </tr>\n",
       "    <tr>\n",
       "      <th>3444</th>\n",
       "      <td>2018-10-22 07:10:00-04:00</td>\n",
       "      <td>Brother Two</td>\n",
       "      <td>0 days 00:17:05</td>\n",
       "      <td>American Horror Story: Cult: Drink the Kool-Ai...</td>\n",
       "    </tr>\n",
       "  </tbody>\n",
       "</table>\n",
       "</div>"
      ],
      "text/plain": [
       "                     Start Time Profile Name        Duration  \\\n",
       "3446  2018-10-22 00:49:00-04:00  Brother Two 0 days 00:22:18   \n",
       "3435  2018-10-24 00:12:00-04:00  Brother Two 0 days 00:37:48   \n",
       "34564 2017-12-01 21:59:00-05:00           Me 0 days 00:42:29   \n",
       "6143  2016-10-08 09:27:00-04:00  Brother Two 0 days 00:43:04   \n",
       "3440  2018-10-23 00:03:00-04:00  Brother Two 0 days 00:05:37   \n",
       "3439  2018-10-23 00:13:00-04:00  Brother Two 0 days 00:19:30   \n",
       "3451  2018-10-20 03:09:00-04:00  Brother Two 0 days 00:02:56   \n",
       "6154  2016-10-05 15:47:00-04:00  Brother Two 0 days 00:06:08   \n",
       "6151  2016-10-06 20:35:00-04:00  Brother Two 0 days 00:52:34   \n",
       "3461  2018-10-17 02:29:00-04:00  Brother Two 0 days 00:08:16   \n",
       "6140  2016-10-08 12:48:00-04:00  Brother Two 0 days 00:49:57   \n",
       "6491  2016-06-16 18:38:00-04:00  Brother Two 0 days 00:00:02   \n",
       "3436  2018-10-23 03:20:00-04:00  Brother Two 0 days 00:01:02   \n",
       "6162  2016-10-04 20:55:00-04:00  Brother Two 0 days 00:00:02   \n",
       "3463  2018-10-16 00:31:00-04:00  Brother Two 0 days 00:23:10   \n",
       "3445  2018-10-22 02:44:00-04:00  Brother Two 0 days 00:09:10   \n",
       "1880  2020-11-13 13:33:00-05:00  Brother Two 0 days 00:00:04   \n",
       "1876  2020-11-13 19:59:00-05:00  Brother Two 0 days 00:00:01   \n",
       "34565 2017-12-01 21:11:00-05:00           Me 0 days 00:48:26   \n",
       "3444  2018-10-22 07:10:00-04:00  Brother Two 0 days 00:17:05   \n",
       "\n",
       "                                                   Title  \n",
       "3446   American Horror Story: Cult: Drink the Kool-Ai...  \n",
       "3435   American Horror Story: Cult: Great Again (Epis...  \n",
       "34564  American Horror Story: Coven: Boy Parts (Episo...  \n",
       "6143   American Horror Story: Hotel: Flicker (Episode 7)  \n",
       "3440   American Horror Story: Cult: Charles (Manson) ...  \n",
       "3439   American Horror Story: Cult: Charles (Manson) ...  \n",
       "3451   American Horror Story: Cult: Winter of Our Dis...  \n",
       "6154   American Horror Story: Hotel: Chutes and Ladde...  \n",
       "6151     American Horror Story: Hotel: Mommy (Episode 3)  \n",
       "3461   American Horror Story: Cult: Don't Be Afraid o...  \n",
       "6140   American Horror Story: Hotel: She Gets Revenge...  \n",
       "6491   American Horror Story: Murder House: Pilot (Ep...  \n",
       "3436   American Horror Story: Cult: Charles (Manson) ...  \n",
       "6162   American Horror Story: Murder House: Pilot (Ep...  \n",
       "3463   American Horror Story: Cult: Election Night (E...  \n",
       "3445   American Horror Story: Cult: Drink the Kool-Ai...  \n",
       "1880   American Horror Story: Freak Show_hook_primary...  \n",
       "1876   American Horror Story: 1984: Camp Redwood (Epi...  \n",
       "34565  American Horror Story: Coven: Bitchcraft (Epis...  \n",
       "3444   American Horror Story: Cult: Drink the Kool-Ai...  "
      ]
     },
     "execution_count": 10,
     "metadata": {},
     "output_type": "execute_result"
    }
   ],
   "source": [
    "# create a new datafrom called American Horror Story (ahs) that pulls from df\n",
    "# pulls only rows with the Title column containing American Horror Story\n",
    "ahs = df[df['Title'].str.contains('American Horror Story', regex=False)]\n",
    "ahs.sample(20)"
   ]
  },
  {
   "cell_type": "code",
   "execution_count": 11,
   "metadata": {},
   "outputs": [
    {
     "data": {
      "text/plain": [
       "Timedelta('0 days 22:41:53')"
      ]
     },
     "execution_count": 11,
     "metadata": {},
     "output_type": "execute_result"
    }
   ],
   "source": [
    "ahs['Duration'].sum()"
   ]
  }
 ],
 "metadata": {
  "interpreter": {
   "hash": "b3ba2566441a7c06988d0923437866b63cedc61552a5af99d1f4fb67d367b25f"
  },
  "kernelspec": {
   "display_name": "Python 3.9.7 64-bit ('base': conda)",
   "language": "python",
   "name": "python3"
  },
  "language_info": {
   "codemirror_mode": {
    "name": "ipython",
    "version": 3
   },
   "file_extension": ".py",
   "mimetype": "text/x-python",
   "name": "python",
   "nbconvert_exporter": "python",
   "pygments_lexer": "ipython3",
   "version": "3.9.7"
  },
  "orig_nbformat": 4
 },
 "nbformat": 4,
 "nbformat_minor": 2
}
