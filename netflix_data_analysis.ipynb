{
 "cells": [
  {
   "cell_type": "code",
   "execution_count": 71,
   "metadata": {},
   "outputs": [],
   "source": [
    "# Questions for class: 1) Should I commit and push my venv? I tried to add it to gitignore, but it isn't working."
   ]
  },
  {
   "cell_type": "code",
   "execution_count": 72,
   "metadata": {},
   "outputs": [],
   "source": [
    "import pandas as pd"
   ]
  },
  {
   "cell_type": "code",
   "execution_count": 73,
   "metadata": {},
   "outputs": [],
   "source": [
    "# import netflix data csv.\n",
    "df = pd.read_csv('viewing-activity-data.csv')"
   ]
  },
  {
   "cell_type": "code",
   "execution_count": 74,
   "metadata": {},
   "outputs": [
    {
     "data": {
      "text/plain": [
       "(39389, 10)"
      ]
     },
     "execution_count": 74,
     "metadata": {},
     "output_type": "execute_result"
    }
   ],
   "source": [
    "# number of rows and columns\n",
    "df.shape"
   ]
  },
  {
   "cell_type": "code",
   "execution_count": 75,
   "metadata": {},
   "outputs": [
    {
     "data": {
      "text/html": [
       "<div>\n",
       "<style scoped>\n",
       "    .dataframe tbody tr th:only-of-type {\n",
       "        vertical-align: middle;\n",
       "    }\n",
       "\n",
       "    .dataframe tbody tr th {\n",
       "        vertical-align: top;\n",
       "    }\n",
       "\n",
       "    .dataframe thead th {\n",
       "        text-align: right;\n",
       "    }\n",
       "</style>\n",
       "<table border=\"1\" class=\"dataframe\">\n",
       "  <thead>\n",
       "    <tr style=\"text-align: right;\">\n",
       "      <th></th>\n",
       "      <th>Profile Name</th>\n",
       "      <th>Start Time</th>\n",
       "      <th>Duration</th>\n",
       "      <th>Attributes</th>\n",
       "      <th>Title</th>\n",
       "      <th>Supplemental Video Type</th>\n",
       "      <th>Device Type</th>\n",
       "      <th>Bookmark</th>\n",
       "      <th>Latest Bookmark</th>\n",
       "      <th>Country</th>\n",
       "    </tr>\n",
       "  </thead>\n",
       "  <tbody>\n",
       "    <tr>\n",
       "      <th>0</th>\n",
       "      <td>Brother Two</td>\n",
       "      <td>2/18/2022 8:36</td>\n",
       "      <td>0:19:03</td>\n",
       "      <td>NaN</td>\n",
       "      <td>Komi Can't Communicate: Season 1: It's just th...</td>\n",
       "      <td>NaN</td>\n",
       "      <td>DefaultWidevineAndroidPhone</td>\n",
       "      <td>0:24:01</td>\n",
       "      <td>0:24:01</td>\n",
       "      <td>US (United States)</td>\n",
       "    </tr>\n",
       "    <tr>\n",
       "      <th>1</th>\n",
       "      <td>Brother Two</td>\n",
       "      <td>2/18/2022 7:10</td>\n",
       "      <td>0:03:43</td>\n",
       "      <td>NaN</td>\n",
       "      <td>Komi Can't Communicate: Season 1: It's just th...</td>\n",
       "      <td>NaN</td>\n",
       "      <td>DefaultWidevineAndroidPhone</td>\n",
       "      <td>0:03:53</td>\n",
       "      <td>Not latest view</td>\n",
       "      <td>US (United States)</td>\n",
       "    </tr>\n",
       "  </tbody>\n",
       "</table>\n",
       "</div>"
      ],
      "text/plain": [
       "  Profile Name      Start Time Duration Attributes  \\\n",
       "0  Brother Two  2/18/2022 8:36  0:19:03        NaN   \n",
       "1  Brother Two  2/18/2022 7:10  0:03:43        NaN   \n",
       "\n",
       "                                               Title Supplemental Video Type  \\\n",
       "0  Komi Can't Communicate: Season 1: It's just th...                     NaN   \n",
       "1  Komi Can't Communicate: Season 1: It's just th...                     NaN   \n",
       "\n",
       "                   Device Type Bookmark  Latest Bookmark             Country  \n",
       "0  DefaultWidevineAndroidPhone  0:24:01          0:24:01  US (United States)  \n",
       "1  DefaultWidevineAndroidPhone  0:03:53  Not latest view  US (United States)  "
      ]
     },
     "execution_count": 75,
     "metadata": {},
     "output_type": "execute_result"
    }
   ],
   "source": [
    "# show data rows.\n",
    "df.head(2)"
   ]
  },
  {
   "cell_type": "code",
   "execution_count": 76,
   "metadata": {},
   "outputs": [
    {
     "data": {
      "text/html": [
       "<div>\n",
       "<style scoped>\n",
       "    .dataframe tbody tr th:only-of-type {\n",
       "        vertical-align: middle;\n",
       "    }\n",
       "\n",
       "    .dataframe tbody tr th {\n",
       "        vertical-align: top;\n",
       "    }\n",
       "\n",
       "    .dataframe thead th {\n",
       "        text-align: right;\n",
       "    }\n",
       "</style>\n",
       "<table border=\"1\" class=\"dataframe\">\n",
       "  <thead>\n",
       "    <tr style=\"text-align: right;\">\n",
       "      <th></th>\n",
       "      <th>Profile Name</th>\n",
       "      <th>Start Time</th>\n",
       "      <th>Duration</th>\n",
       "      <th>Title</th>\n",
       "    </tr>\n",
       "  </thead>\n",
       "  <tbody>\n",
       "    <tr>\n",
       "      <th>0</th>\n",
       "      <td>Brother Two</td>\n",
       "      <td>2/18/2022 8:36</td>\n",
       "      <td>0:19:03</td>\n",
       "      <td>Komi Can't Communicate: Season 1: It's just th...</td>\n",
       "    </tr>\n",
       "    <tr>\n",
       "      <th>1</th>\n",
       "      <td>Brother Two</td>\n",
       "      <td>2/18/2022 7:10</td>\n",
       "      <td>0:03:43</td>\n",
       "      <td>Komi Can't Communicate: Season 1: It's just th...</td>\n",
       "    </tr>\n",
       "  </tbody>\n",
       "</table>\n",
       "</div>"
      ],
      "text/plain": [
       "  Profile Name      Start Time Duration  \\\n",
       "0  Brother Two  2/18/2022 8:36  0:19:03   \n",
       "1  Brother Two  2/18/2022 7:10  0:03:43   \n",
       "\n",
       "                                               Title  \n",
       "0  Komi Can't Communicate: Season 1: It's just th...  \n",
       "1  Komi Can't Communicate: Season 1: It's just th...  "
      ]
     },
     "execution_count": 76,
     "metadata": {},
     "output_type": "execute_result"
    }
   ],
   "source": [
    "# remove coulumns you do not want to analyze by adding them to df.drop\n",
    "# QUESTION: Do you recomend cleaning data in csv or python? \n",
    "df = df.drop(['Attributes', 'Supplemental Video Type', 'Device Type', 'Bookmark', 'Latest Bookmark', 'Country'], axis=1)\n",
    "df.head(2)"
   ]
  },
  {
   "cell_type": "code",
   "execution_count": 77,
   "metadata": {},
   "outputs": [
    {
     "data": {
      "text/plain": [
       "Profile Name    object\n",
       "Start Time      object\n",
       "Duration        object\n",
       "Title           object\n",
       "dtype: object"
      ]
     },
     "execution_count": 77,
     "metadata": {},
     "output_type": "execute_result"
    }
   ],
   "source": [
    "# provides a list of the data types for each column\n",
    "df.dtypes"
   ]
  },
  {
   "cell_type": "code",
   "execution_count": 78,
   "metadata": {},
   "outputs": [
    {
     "data": {
      "text/plain": [
       "Profile Name                 object\n",
       "Start Time      datetime64[ns, UTC]\n",
       "Duration                     object\n",
       "Title                        object\n",
       "dtype: object"
      ]
     },
     "execution_count": 78,
     "metadata": {},
     "output_type": "execute_result"
    }
   ],
   "source": [
    "# convert Start Time from object to datetime\n",
    "# attach UTC to datetime format \n",
    "df['Start Time'] = pd.to_datetime(df['Start Time'], utc=True)\n",
    "df.dtypes"
   ]
  },
  {
   "cell_type": "code",
   "execution_count": 79,
   "metadata": {},
   "outputs": [
    {
     "data": {
      "text/html": [
       "<div>\n",
       "<style scoped>\n",
       "    .dataframe tbody tr th:only-of-type {\n",
       "        vertical-align: middle;\n",
       "    }\n",
       "\n",
       "    .dataframe tbody tr th {\n",
       "        vertical-align: top;\n",
       "    }\n",
       "\n",
       "    .dataframe thead th {\n",
       "        text-align: right;\n",
       "    }\n",
       "</style>\n",
       "<table border=\"1\" class=\"dataframe\">\n",
       "  <thead>\n",
       "    <tr style=\"text-align: right;\">\n",
       "      <th></th>\n",
       "      <th>Start Time</th>\n",
       "      <th>Profile Name</th>\n",
       "      <th>Duration</th>\n",
       "      <th>Title</th>\n",
       "    </tr>\n",
       "  </thead>\n",
       "  <tbody>\n",
       "    <tr>\n",
       "      <th>0</th>\n",
       "      <td>2022-02-18 03:36:00-05:00</td>\n",
       "      <td>Brother Two</td>\n",
       "      <td>0:19:03</td>\n",
       "      <td>Komi Can't Communicate: Season 1: It's just th...</td>\n",
       "    </tr>\n",
       "  </tbody>\n",
       "</table>\n",
       "</div>"
      ],
      "text/plain": [
       "                 Start Time Profile Name Duration  \\\n",
       "0 2022-02-18 03:36:00-05:00  Brother Two  0:19:03   \n",
       "\n",
       "                                               Title  \n",
       "0  Komi Can't Communicate: Season 1: It's just th...  "
      ]
     },
     "execution_count": 79,
     "metadata": {},
     "output_type": "execute_result"
    }
   ],
   "source": [
    "# change Start Time column into the dataframe's index\n",
    "df = df.set_index('Start Time')\n",
    "\n",
    "# convert from UTC to eastern time\n",
    "df.index = df.index.tz_convert('US/Eastern')\n",
    "\n",
    "# reset the index so that Start Time becomes a column again\n",
    "df = df.reset_index()\n",
    "\n",
    "df.head(1)\n"
   ]
  },
  {
   "cell_type": "code",
   "execution_count": 80,
   "metadata": {},
   "outputs": [
    {
     "data": {
      "text/plain": [
       "Start Time      datetime64[ns, US/Eastern]\n",
       "Profile Name                        object\n",
       "Duration                   timedelta64[ns]\n",
       "Title                               object\n",
       "dtype: object"
      ]
     },
     "execution_count": 80,
     "metadata": {},
     "output_type": "execute_result"
    }
   ],
   "source": [
    "# convert Duration from object to timedelta\n",
    "df['Duration'] = pd.to_timedelta(df['Duration'])\n",
    "df.dtypes"
   ]
  },
  {
   "cell_type": "code",
   "execution_count": 93,
   "metadata": {},
   "outputs": [
    {
     "data": {
      "text/html": [
       "<div>\n",
       "<style scoped>\n",
       "    .dataframe tbody tr th:only-of-type {\n",
       "        vertical-align: middle;\n",
       "    }\n",
       "\n",
       "    .dataframe tbody tr th {\n",
       "        vertical-align: top;\n",
       "    }\n",
       "\n",
       "    .dataframe thead th {\n",
       "        text-align: right;\n",
       "    }\n",
       "</style>\n",
       "<table border=\"1\" class=\"dataframe\">\n",
       "  <thead>\n",
       "    <tr style=\"text-align: right;\">\n",
       "      <th></th>\n",
       "      <th>Start Time</th>\n",
       "      <th>Profile Name</th>\n",
       "      <th>Duration</th>\n",
       "      <th>Title</th>\n",
       "    </tr>\n",
       "  </thead>\n",
       "  <tbody>\n",
       "    <tr>\n",
       "      <th>34558</th>\n",
       "      <td>2017-12-03 17:23:00-05:00</td>\n",
       "      <td>Me</td>\n",
       "      <td>0 days 00:00:42</td>\n",
       "      <td>American Horror Story: Coven: Fearful Pranks E...</td>\n",
       "    </tr>\n",
       "    <tr>\n",
       "      <th>6154</th>\n",
       "      <td>2016-10-05 15:47:00-04:00</td>\n",
       "      <td>Brother Two</td>\n",
       "      <td>0 days 00:06:08</td>\n",
       "      <td>American Horror Story: Hotel: Chutes and Ladde...</td>\n",
       "    </tr>\n",
       "    <tr>\n",
       "      <th>6161</th>\n",
       "      <td>2016-10-04 20:56:00-04:00</td>\n",
       "      <td>Brother Two</td>\n",
       "      <td>0 days 00:01:01</td>\n",
       "      <td>American Horror Story: Hotel: Checking In (Epi...</td>\n",
       "    </tr>\n",
       "    <tr>\n",
       "      <th>34560</th>\n",
       "      <td>2017-12-03 16:29:00-05:00</td>\n",
       "      <td>Me</td>\n",
       "      <td>0 days 00:00:10</td>\n",
       "      <td>American Horror Story: Coven: The Replacements...</td>\n",
       "    </tr>\n",
       "    <tr>\n",
       "      <th>3445</th>\n",
       "      <td>2018-10-22 02:44:00-04:00</td>\n",
       "      <td>Brother Two</td>\n",
       "      <td>0 days 00:09:10</td>\n",
       "      <td>American Horror Story: Cult: Drink the Kool-Ai...</td>\n",
       "    </tr>\n",
       "    <tr>\n",
       "      <th>6142</th>\n",
       "      <td>2016-10-08 10:12:00-04:00</td>\n",
       "      <td>Brother Two</td>\n",
       "      <td>0 days 00:45:58</td>\n",
       "      <td>American Horror Story: Hotel: Ten Commandments...</td>\n",
       "    </tr>\n",
       "    <tr>\n",
       "      <th>3458</th>\n",
       "      <td>2018-10-18 02:30:00-04:00</td>\n",
       "      <td>Brother Two</td>\n",
       "      <td>0 days 00:49:10</td>\n",
       "      <td>American Horror Story: Cult: 11/9 (Episode 4)</td>\n",
       "    </tr>\n",
       "    <tr>\n",
       "      <th>34562</th>\n",
       "      <td>2017-12-01 23:35:00-05:00</td>\n",
       "      <td>Me</td>\n",
       "      <td>0 days 00:00:01</td>\n",
       "      <td>American Horror Story: Coven: Fearful Pranks E...</td>\n",
       "    </tr>\n",
       "    <tr>\n",
       "      <th>6159</th>\n",
       "      <td>2016-10-04 20:58:00-04:00</td>\n",
       "      <td>Brother Two</td>\n",
       "      <td>0 days 01:02:02</td>\n",
       "      <td>American Horror Story: Hotel: Checking In (Epi...</td>\n",
       "    </tr>\n",
       "    <tr>\n",
       "      <th>6140</th>\n",
       "      <td>2016-10-08 12:48:00-04:00</td>\n",
       "      <td>Brother Two</td>\n",
       "      <td>0 days 00:49:57</td>\n",
       "      <td>American Horror Story: Hotel: She Gets Revenge...</td>\n",
       "    </tr>\n",
       "    <tr>\n",
       "      <th>32323</th>\n",
       "      <td>2020-11-13 19:11:00-05:00</td>\n",
       "      <td>Me</td>\n",
       "      <td>0 days 00:00:05</td>\n",
       "      <td>American Horror Story: Season 3_hook_primary_16x9</td>\n",
       "    </tr>\n",
       "    <tr>\n",
       "      <th>3451</th>\n",
       "      <td>2018-10-20 03:09:00-04:00</td>\n",
       "      <td>Brother Two</td>\n",
       "      <td>0 days 00:02:56</td>\n",
       "      <td>American Horror Story: Cult: Winter of Our Dis...</td>\n",
       "    </tr>\n",
       "    <tr>\n",
       "      <th>6144</th>\n",
       "      <td>2016-10-07 20:22:00-04:00</td>\n",
       "      <td>Brother Two</td>\n",
       "      <td>0 days 00:51:41</td>\n",
       "      <td>American Horror Story: Hotel: Room 33 (Episode 6)</td>\n",
       "    </tr>\n",
       "    <tr>\n",
       "      <th>3460</th>\n",
       "      <td>2018-10-17 02:40:00-04:00</td>\n",
       "      <td>Brother Two</td>\n",
       "      <td>0 days 00:36:46</td>\n",
       "      <td>American Horror Story: Cult: Don't Be Afraid o...</td>\n",
       "    </tr>\n",
       "    <tr>\n",
       "      <th>33496</th>\n",
       "      <td>2019-02-11 16:35:00-05:00</td>\n",
       "      <td>Me</td>\n",
       "      <td>0 days 00:04:56</td>\n",
       "      <td>American Horror Story: Roanoke: Chapter 1 (Epi...</td>\n",
       "    </tr>\n",
       "    <tr>\n",
       "      <th>3453</th>\n",
       "      <td>2018-10-20 00:23:00-04:00</td>\n",
       "      <td>Brother Two</td>\n",
       "      <td>0 days 00:42:36</td>\n",
       "      <td>American Horror Story: Cult: Valerie Solanas D...</td>\n",
       "    </tr>\n",
       "    <tr>\n",
       "      <th>32298</th>\n",
       "      <td>2020-11-26 19:53:00-05:00</td>\n",
       "      <td>Me</td>\n",
       "      <td>0 days 00:00:07</td>\n",
       "      <td>American Horror Story: Cult_hook_01_16x9</td>\n",
       "    </tr>\n",
       "    <tr>\n",
       "      <th>3434</th>\n",
       "      <td>2018-10-24 02:37:00-04:00</td>\n",
       "      <td>Brother Two</td>\n",
       "      <td>0 days 00:05:43</td>\n",
       "      <td>American Horror Story: Cult: Great Again (Epis...</td>\n",
       "    </tr>\n",
       "    <tr>\n",
       "      <th>6139</th>\n",
       "      <td>2016-10-08 13:50:00-04:00</td>\n",
       "      <td>Brother Two</td>\n",
       "      <td>0 days 00:46:11</td>\n",
       "      <td>American Horror Story: Hotel: Battle Royale (E...</td>\n",
       "    </tr>\n",
       "    <tr>\n",
       "      <th>3463</th>\n",
       "      <td>2018-10-16 00:31:00-04:00</td>\n",
       "      <td>Brother Two</td>\n",
       "      <td>0 days 00:23:10</td>\n",
       "      <td>American Horror Story: Cult: Election Night (E...</td>\n",
       "    </tr>\n",
       "  </tbody>\n",
       "</table>\n",
       "</div>"
      ],
      "text/plain": [
       "                     Start Time Profile Name        Duration  \\\n",
       "34558 2017-12-03 17:23:00-05:00           Me 0 days 00:00:42   \n",
       "6154  2016-10-05 15:47:00-04:00  Brother Two 0 days 00:06:08   \n",
       "6161  2016-10-04 20:56:00-04:00  Brother Two 0 days 00:01:01   \n",
       "34560 2017-12-03 16:29:00-05:00           Me 0 days 00:00:10   \n",
       "3445  2018-10-22 02:44:00-04:00  Brother Two 0 days 00:09:10   \n",
       "6142  2016-10-08 10:12:00-04:00  Brother Two 0 days 00:45:58   \n",
       "3458  2018-10-18 02:30:00-04:00  Brother Two 0 days 00:49:10   \n",
       "34562 2017-12-01 23:35:00-05:00           Me 0 days 00:00:01   \n",
       "6159  2016-10-04 20:58:00-04:00  Brother Two 0 days 01:02:02   \n",
       "6140  2016-10-08 12:48:00-04:00  Brother Two 0 days 00:49:57   \n",
       "32323 2020-11-13 19:11:00-05:00           Me 0 days 00:00:05   \n",
       "3451  2018-10-20 03:09:00-04:00  Brother Two 0 days 00:02:56   \n",
       "6144  2016-10-07 20:22:00-04:00  Brother Two 0 days 00:51:41   \n",
       "3460  2018-10-17 02:40:00-04:00  Brother Two 0 days 00:36:46   \n",
       "33496 2019-02-11 16:35:00-05:00           Me 0 days 00:04:56   \n",
       "3453  2018-10-20 00:23:00-04:00  Brother Two 0 days 00:42:36   \n",
       "32298 2020-11-26 19:53:00-05:00           Me 0 days 00:00:07   \n",
       "3434  2018-10-24 02:37:00-04:00  Brother Two 0 days 00:05:43   \n",
       "6139  2016-10-08 13:50:00-04:00  Brother Two 0 days 00:46:11   \n",
       "3463  2018-10-16 00:31:00-04:00  Brother Two 0 days 00:23:10   \n",
       "\n",
       "                                                   Title  \n",
       "34558  American Horror Story: Coven: Fearful Pranks E...  \n",
       "6154   American Horror Story: Hotel: Chutes and Ladde...  \n",
       "6161   American Horror Story: Hotel: Checking In (Epi...  \n",
       "34560  American Horror Story: Coven: The Replacements...  \n",
       "3445   American Horror Story: Cult: Drink the Kool-Ai...  \n",
       "6142   American Horror Story: Hotel: Ten Commandments...  \n",
       "3458       American Horror Story: Cult: 11/9 (Episode 4)  \n",
       "34562  American Horror Story: Coven: Fearful Pranks E...  \n",
       "6159   American Horror Story: Hotel: Checking In (Epi...  \n",
       "6140   American Horror Story: Hotel: She Gets Revenge...  \n",
       "32323  American Horror Story: Season 3_hook_primary_16x9  \n",
       "3451   American Horror Story: Cult: Winter of Our Dis...  \n",
       "6144   American Horror Story: Hotel: Room 33 (Episode 6)  \n",
       "3460   American Horror Story: Cult: Don't Be Afraid o...  \n",
       "33496  American Horror Story: Roanoke: Chapter 1 (Epi...  \n",
       "3453   American Horror Story: Cult: Valerie Solanas D...  \n",
       "32298           American Horror Story: Cult_hook_01_16x9  \n",
       "3434   American Horror Story: Cult: Great Again (Epis...  \n",
       "6139   American Horror Story: Hotel: Battle Royale (E...  \n",
       "3463   American Horror Story: Cult: Election Night (E...  "
      ]
     },
     "execution_count": 93,
     "metadata": {},
     "output_type": "execute_result"
    }
   ],
   "source": [
    "# create a new datafrom called American Horror Story (ahs) that pulls from df\n",
    "# pulls only rows with the Title column containing American Horror Story\n",
    "ahs = df[df['Title'].str.contains('American Horror Story', regex=False)]\n",
    "ahs.sample(20)"
   ]
  }
 ],
 "metadata": {
  "interpreter": {
   "hash": "b3ba2566441a7c06988d0923437866b63cedc61552a5af99d1f4fb67d367b25f"
  },
  "kernelspec": {
   "display_name": "Python 3.9.7 64-bit ('base': conda)",
   "language": "python",
   "name": "python3"
  },
  "language_info": {
   "codemirror_mode": {
    "name": "ipython",
    "version": 3
   },
   "file_extension": ".py",
   "mimetype": "text/x-python",
   "name": "python",
   "nbconvert_exporter": "python",
   "pygments_lexer": "ipython3",
   "version": "3.9.7"
  },
  "orig_nbformat": 4
 },
 "nbformat": 4,
 "nbformat_minor": 2
}
