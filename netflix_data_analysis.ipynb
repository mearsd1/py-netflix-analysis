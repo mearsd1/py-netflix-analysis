{
 "cells": [
  {
   "cell_type": "code",
   "execution_count": null,
   "metadata": {},
   "outputs": [],
   "source": [
    "import pandas as pd"
   ]
  },
  {
   "cell_type": "code",
   "execution_count": 20,
   "metadata": {},
   "outputs": [],
   "source": [
    "#Import Netflix data csv.\n",
    "df = pd.read_csv('viewing-activity-data.csv')"
   ]
  },
  {
   "cell_type": "code",
   "execution_count": 21,
   "metadata": {},
   "outputs": [
    {
     "data": {
      "text/plain": [
       "(39389, 10)"
      ]
     },
     "execution_count": 21,
     "metadata": {},
     "output_type": "execute_result"
    }
   ],
   "source": [
    "#Number of rows and columns.\n",
    "df.shape"
   ]
  },
  {
   "cell_type": "code",
   "execution_count": 22,
   "metadata": {},
   "outputs": [
    {
     "data": {
      "text/html": [
       "<div>\n",
       "<style scoped>\n",
       "    .dataframe tbody tr th:only-of-type {\n",
       "        vertical-align: middle;\n",
       "    }\n",
       "\n",
       "    .dataframe tbody tr th {\n",
       "        vertical-align: top;\n",
       "    }\n",
       "\n",
       "    .dataframe thead th {\n",
       "        text-align: right;\n",
       "    }\n",
       "</style>\n",
       "<table border=\"1\" class=\"dataframe\">\n",
       "  <thead>\n",
       "    <tr style=\"text-align: right;\">\n",
       "      <th></th>\n",
       "      <th>Profile Name</th>\n",
       "      <th>Start Time</th>\n",
       "      <th>Duration</th>\n",
       "      <th>Attributes</th>\n",
       "      <th>Title</th>\n",
       "      <th>Supplemental Video Type</th>\n",
       "      <th>Device Type</th>\n",
       "      <th>Bookmark</th>\n",
       "      <th>Latest Bookmark</th>\n",
       "      <th>Country</th>\n",
       "    </tr>\n",
       "  </thead>\n",
       "  <tbody>\n",
       "    <tr>\n",
       "      <th>0</th>\n",
       "      <td>Brother Two</td>\n",
       "      <td>2/18/2022 8:36</td>\n",
       "      <td>0:19:03</td>\n",
       "      <td>NaN</td>\n",
       "      <td>Komi Can't Communicate: Season 1: It's just th...</td>\n",
       "      <td>NaN</td>\n",
       "      <td>DefaultWidevineAndroidPhone</td>\n",
       "      <td>0:24:01</td>\n",
       "      <td>0:24:01</td>\n",
       "      <td>US (United States)</td>\n",
       "    </tr>\n",
       "    <tr>\n",
       "      <th>1</th>\n",
       "      <td>Brother Two</td>\n",
       "      <td>2/18/2022 7:10</td>\n",
       "      <td>0:03:43</td>\n",
       "      <td>NaN</td>\n",
       "      <td>Komi Can't Communicate: Season 1: It's just th...</td>\n",
       "      <td>NaN</td>\n",
       "      <td>DefaultWidevineAndroidPhone</td>\n",
       "      <td>0:03:53</td>\n",
       "      <td>Not latest view</td>\n",
       "      <td>US (United States)</td>\n",
       "    </tr>\n",
       "  </tbody>\n",
       "</table>\n",
       "</div>"
      ],
      "text/plain": [
       "  Profile Name      Start Time Duration Attributes  \\\n",
       "0  Brother Two  2/18/2022 8:36  0:19:03        NaN   \n",
       "1  Brother Two  2/18/2022 7:10  0:03:43        NaN   \n",
       "\n",
       "                                               Title Supplemental Video Type  \\\n",
       "0  Komi Can't Communicate: Season 1: It's just th...                     NaN   \n",
       "1  Komi Can't Communicate: Season 1: It's just th...                     NaN   \n",
       "\n",
       "                   Device Type Bookmark  Latest Bookmark             Country  \n",
       "0  DefaultWidevineAndroidPhone  0:24:01          0:24:01  US (United States)  \n",
       "1  DefaultWidevineAndroidPhone  0:03:53  Not latest view  US (United States)  "
      ]
     },
     "execution_count": 22,
     "metadata": {},
     "output_type": "execute_result"
    }
   ],
   "source": [
    "#Show data rows.\n",
    "df.head(2)"
   ]
  },
  {
   "cell_type": "code",
   "execution_count": 23,
   "metadata": {},
   "outputs": [
    {
     "data": {
      "text/html": [
       "<div>\n",
       "<style scoped>\n",
       "    .dataframe tbody tr th:only-of-type {\n",
       "        vertical-align: middle;\n",
       "    }\n",
       "\n",
       "    .dataframe tbody tr th {\n",
       "        vertical-align: top;\n",
       "    }\n",
       "\n",
       "    .dataframe thead th {\n",
       "        text-align: right;\n",
       "    }\n",
       "</style>\n",
       "<table border=\"1\" class=\"dataframe\">\n",
       "  <thead>\n",
       "    <tr style=\"text-align: right;\">\n",
       "      <th></th>\n",
       "      <th>Profile Name</th>\n",
       "      <th>Start Time</th>\n",
       "      <th>Duration</th>\n",
       "      <th>Title</th>\n",
       "    </tr>\n",
       "  </thead>\n",
       "  <tbody>\n",
       "    <tr>\n",
       "      <th>0</th>\n",
       "      <td>Brother Two</td>\n",
       "      <td>2/18/2022 8:36</td>\n",
       "      <td>0:19:03</td>\n",
       "      <td>Komi Can't Communicate: Season 1: It's just th...</td>\n",
       "    </tr>\n",
       "  </tbody>\n",
       "</table>\n",
       "</div>"
      ],
      "text/plain": [
       "  Profile Name      Start Time Duration  \\\n",
       "0  Brother Two  2/18/2022 8:36  0:19:03   \n",
       "\n",
       "                                               Title  \n",
       "0  Komi Can't Communicate: Season 1: It's just th...  "
      ]
     },
     "execution_count": 23,
     "metadata": {},
     "output_type": "execute_result"
    }
   ],
   "source": [
    "#Remove coulumns you do not want to analyze by adding them to df.drop.\n",
    "#QUESTION: Do you recomend cleaning data in csv or python? \n",
    "df = df.drop(['Attributes', 'Supplemental Video Type', 'Device Type', 'Bookmark', 'Latest Bookmark', 'Country'], axis=1)\n",
    "df.head(1)"
   ]
  },
  {
   "cell_type": "code",
   "execution_count": 24,
   "metadata": {},
   "outputs": [
    {
     "data": {
      "text/plain": [
       "Profile Name    object\n",
       "Start Time      object\n",
       "Duration        object\n",
       "Title           object\n",
       "dtype: object"
      ]
     },
     "execution_count": 24,
     "metadata": {},
     "output_type": "execute_result"
    }
   ],
   "source": [
    "#Provides list of the data types for each column.\n",
    "df.dtypes"
   ]
  },
  {
   "cell_type": "code",
   "execution_count": null,
   "metadata": {},
   "outputs": [],
   "source": [
    "df['Start Time'] = pd.to_datetime(df['Start Time', utc=True])"
   ]
  }
 ],
 "metadata": {
  "interpreter": {
   "hash": "b3ba2566441a7c06988d0923437866b63cedc61552a5af99d1f4fb67d367b25f"
  },
  "kernelspec": {
   "display_name": "Python 3.9.7 64-bit ('base': conda)",
   "language": "python",
   "name": "python3"
  },
  "language_info": {
   "codemirror_mode": {
    "name": "ipython",
    "version": 3
   },
   "file_extension": ".py",
   "mimetype": "text/x-python",
   "name": "python",
   "nbconvert_exporter": "python",
   "pygments_lexer": "ipython3",
   "version": "3.9.7"
  },
  "orig_nbformat": 4
 },
 "nbformat": 4,
 "nbformat_minor": 2
}
