{
 "cells": [
  {
   "cell_type": "code",
   "execution_count": 16,
   "metadata": {},
   "outputs": [],
   "source": [
    "import pandas as pd\n",
    "import numpy as np\n",
    "%matplotlib inline\n",
    "import matplotlib"
   ]
  },
  {
   "cell_type": "code",
   "execution_count": 2,
   "metadata": {},
   "outputs": [],
   "source": [
    "# import netflix data csv.\n",
    "df = pd.read_csv('viewing-activity-data.csv')"
   ]
  },
  {
   "cell_type": "code",
   "execution_count": 3,
   "metadata": {},
   "outputs": [
    {
     "data": {
      "text/plain": [
       "(39389, 10)"
      ]
     },
     "execution_count": 3,
     "metadata": {},
     "output_type": "execute_result"
    }
   ],
   "source": [
    "# number of rows and columns\n",
    "df.shape"
   ]
  },
  {
   "cell_type": "code",
   "execution_count": 4,
   "metadata": {},
   "outputs": [
    {
     "data": {
      "text/html": [
       "<div>\n",
       "<style scoped>\n",
       "    .dataframe tbody tr th:only-of-type {\n",
       "        vertical-align: middle;\n",
       "    }\n",
       "\n",
       "    .dataframe tbody tr th {\n",
       "        vertical-align: top;\n",
       "    }\n",
       "\n",
       "    .dataframe thead th {\n",
       "        text-align: right;\n",
       "    }\n",
       "</style>\n",
       "<table border=\"1\" class=\"dataframe\">\n",
       "  <thead>\n",
       "    <tr style=\"text-align: right;\">\n",
       "      <th></th>\n",
       "      <th>Profile Name</th>\n",
       "      <th>Start Time</th>\n",
       "      <th>Duration</th>\n",
       "      <th>Attributes</th>\n",
       "      <th>Title</th>\n",
       "      <th>Supplemental Video Type</th>\n",
       "      <th>Device Type</th>\n",
       "      <th>Bookmark</th>\n",
       "      <th>Latest Bookmark</th>\n",
       "      <th>Country</th>\n",
       "    </tr>\n",
       "  </thead>\n",
       "  <tbody>\n",
       "    <tr>\n",
       "      <th>0</th>\n",
       "      <td>Brother Two</td>\n",
       "      <td>2/18/2022 8:36</td>\n",
       "      <td>0:19:03</td>\n",
       "      <td>NaN</td>\n",
       "      <td>Komi Can't Communicate: Season 1: It's just th...</td>\n",
       "      <td>NaN</td>\n",
       "      <td>DefaultWidevineAndroidPhone</td>\n",
       "      <td>0:24:01</td>\n",
       "      <td>0:24:01</td>\n",
       "      <td>US (United States)</td>\n",
       "    </tr>\n",
       "    <tr>\n",
       "      <th>1</th>\n",
       "      <td>Brother Two</td>\n",
       "      <td>2/18/2022 7:10</td>\n",
       "      <td>0:03:43</td>\n",
       "      <td>NaN</td>\n",
       "      <td>Komi Can't Communicate: Season 1: It's just th...</td>\n",
       "      <td>NaN</td>\n",
       "      <td>DefaultWidevineAndroidPhone</td>\n",
       "      <td>0:03:53</td>\n",
       "      <td>Not latest view</td>\n",
       "      <td>US (United States)</td>\n",
       "    </tr>\n",
       "  </tbody>\n",
       "</table>\n",
       "</div>"
      ],
      "text/plain": [
       "  Profile Name      Start Time Duration Attributes  \\\n",
       "0  Brother Two  2/18/2022 8:36  0:19:03        NaN   \n",
       "1  Brother Two  2/18/2022 7:10  0:03:43        NaN   \n",
       "\n",
       "                                               Title Supplemental Video Type  \\\n",
       "0  Komi Can't Communicate: Season 1: It's just th...                     NaN   \n",
       "1  Komi Can't Communicate: Season 1: It's just th...                     NaN   \n",
       "\n",
       "                   Device Type Bookmark  Latest Bookmark             Country  \n",
       "0  DefaultWidevineAndroidPhone  0:24:01          0:24:01  US (United States)  \n",
       "1  DefaultWidevineAndroidPhone  0:03:53  Not latest view  US (United States)  "
      ]
     },
     "execution_count": 4,
     "metadata": {},
     "output_type": "execute_result"
    }
   ],
   "source": [
    "# show data rows.\n",
    "df.head(2)"
   ]
  },
  {
   "cell_type": "code",
   "execution_count": 5,
   "metadata": {},
   "outputs": [
    {
     "data": {
      "text/html": [
       "<div>\n",
       "<style scoped>\n",
       "    .dataframe tbody tr th:only-of-type {\n",
       "        vertical-align: middle;\n",
       "    }\n",
       "\n",
       "    .dataframe tbody tr th {\n",
       "        vertical-align: top;\n",
       "    }\n",
       "\n",
       "    .dataframe thead th {\n",
       "        text-align: right;\n",
       "    }\n",
       "</style>\n",
       "<table border=\"1\" class=\"dataframe\">\n",
       "  <thead>\n",
       "    <tr style=\"text-align: right;\">\n",
       "      <th></th>\n",
       "      <th>Profile Name</th>\n",
       "      <th>Start Time</th>\n",
       "      <th>Duration</th>\n",
       "      <th>Title</th>\n",
       "    </tr>\n",
       "  </thead>\n",
       "  <tbody>\n",
       "    <tr>\n",
       "      <th>0</th>\n",
       "      <td>Brother Two</td>\n",
       "      <td>2/18/2022 8:36</td>\n",
       "      <td>0:19:03</td>\n",
       "      <td>Komi Can't Communicate: Season 1: It's just th...</td>\n",
       "    </tr>\n",
       "    <tr>\n",
       "      <th>1</th>\n",
       "      <td>Brother Two</td>\n",
       "      <td>2/18/2022 7:10</td>\n",
       "      <td>0:03:43</td>\n",
       "      <td>Komi Can't Communicate: Season 1: It's just th...</td>\n",
       "    </tr>\n",
       "  </tbody>\n",
       "</table>\n",
       "</div>"
      ],
      "text/plain": [
       "  Profile Name      Start Time Duration  \\\n",
       "0  Brother Two  2/18/2022 8:36  0:19:03   \n",
       "1  Brother Two  2/18/2022 7:10  0:03:43   \n",
       "\n",
       "                                               Title  \n",
       "0  Komi Can't Communicate: Season 1: It's just th...  \n",
       "1  Komi Can't Communicate: Season 1: It's just th...  "
      ]
     },
     "execution_count": 5,
     "metadata": {},
     "output_type": "execute_result"
    }
   ],
   "source": [
    "# remove coulumns you do not want to analyze by adding them to df.drop\n",
    "# QUESTION: Do you recomend cleaning data in csv or python? \n",
    "df = df.drop(['Attributes', 'Supplemental Video Type', 'Device Type', 'Bookmark', 'Latest Bookmark', 'Country'], axis=1)\n",
    "df.head(2)"
   ]
  },
  {
   "cell_type": "code",
   "execution_count": 6,
   "metadata": {},
   "outputs": [
    {
     "data": {
      "text/plain": [
       "Profile Name    object\n",
       "Start Time      object\n",
       "Duration        object\n",
       "Title           object\n",
       "dtype: object"
      ]
     },
     "execution_count": 6,
     "metadata": {},
     "output_type": "execute_result"
    }
   ],
   "source": [
    "# provides a list of the data types for each column\n",
    "df.dtypes"
   ]
  },
  {
   "cell_type": "code",
   "execution_count": 7,
   "metadata": {},
   "outputs": [
    {
     "data": {
      "text/plain": [
       "Profile Name                 object\n",
       "Start Time      datetime64[ns, UTC]\n",
       "Duration                     object\n",
       "Title                        object\n",
       "dtype: object"
      ]
     },
     "execution_count": 7,
     "metadata": {},
     "output_type": "execute_result"
    }
   ],
   "source": [
    "# convert Start Time from object to datetime\n",
    "# attach UTC to datetime format \n",
    "df['Start Time'] = pd.to_datetime(df['Start Time'], utc=True)\n",
    "df.dtypes"
   ]
  },
  {
   "cell_type": "code",
   "execution_count": 8,
   "metadata": {},
   "outputs": [
    {
     "data": {
      "text/html": [
       "<div>\n",
       "<style scoped>\n",
       "    .dataframe tbody tr th:only-of-type {\n",
       "        vertical-align: middle;\n",
       "    }\n",
       "\n",
       "    .dataframe tbody tr th {\n",
       "        vertical-align: top;\n",
       "    }\n",
       "\n",
       "    .dataframe thead th {\n",
       "        text-align: right;\n",
       "    }\n",
       "</style>\n",
       "<table border=\"1\" class=\"dataframe\">\n",
       "  <thead>\n",
       "    <tr style=\"text-align: right;\">\n",
       "      <th></th>\n",
       "      <th>Start Time</th>\n",
       "      <th>Profile Name</th>\n",
       "      <th>Duration</th>\n",
       "      <th>Title</th>\n",
       "    </tr>\n",
       "  </thead>\n",
       "  <tbody>\n",
       "    <tr>\n",
       "      <th>0</th>\n",
       "      <td>2022-02-18 03:36:00-05:00</td>\n",
       "      <td>Brother Two</td>\n",
       "      <td>0:19:03</td>\n",
       "      <td>Komi Can't Communicate: Season 1: It's just th...</td>\n",
       "    </tr>\n",
       "  </tbody>\n",
       "</table>\n",
       "</div>"
      ],
      "text/plain": [
       "                 Start Time Profile Name Duration  \\\n",
       "0 2022-02-18 03:36:00-05:00  Brother Two  0:19:03   \n",
       "\n",
       "                                               Title  \n",
       "0  Komi Can't Communicate: Season 1: It's just th...  "
      ]
     },
     "execution_count": 8,
     "metadata": {},
     "output_type": "execute_result"
    }
   ],
   "source": [
    "# change Start Time column into the dataframe's index\n",
    "df = df.set_index('Start Time')\n",
    "\n",
    "# convert from UTC to eastern time\n",
    "df.index = df.index.tz_convert('US/Eastern')\n",
    "\n",
    "# reset the index so that Start Time becomes a column again\n",
    "df = df.reset_index()\n",
    "\n",
    "df.head(1)\n"
   ]
  },
  {
   "cell_type": "code",
   "execution_count": 9,
   "metadata": {},
   "outputs": [
    {
     "data": {
      "text/plain": [
       "Start Time      datetime64[ns, US/Eastern]\n",
       "Profile Name                        object\n",
       "Duration                   timedelta64[ns]\n",
       "Title                               object\n",
       "dtype: object"
      ]
     },
     "execution_count": 9,
     "metadata": {},
     "output_type": "execute_result"
    }
   ],
   "source": [
    "# convert Duration from object to timedelta\n",
    "df['Duration'] = pd.to_timedelta(df['Duration'])\n",
    "df.dtypes"
   ]
  },
  {
   "cell_type": "code",
   "execution_count": 10,
   "metadata": {},
   "outputs": [
    {
     "data": {
      "text/html": [
       "<div>\n",
       "<style scoped>\n",
       "    .dataframe tbody tr th:only-of-type {\n",
       "        vertical-align: middle;\n",
       "    }\n",
       "\n",
       "    .dataframe tbody tr th {\n",
       "        vertical-align: top;\n",
       "    }\n",
       "\n",
       "    .dataframe thead th {\n",
       "        text-align: right;\n",
       "    }\n",
       "</style>\n",
       "<table border=\"1\" class=\"dataframe\">\n",
       "  <thead>\n",
       "    <tr style=\"text-align: right;\">\n",
       "      <th></th>\n",
       "      <th>Start Time</th>\n",
       "      <th>Profile Name</th>\n",
       "      <th>Duration</th>\n",
       "      <th>Title</th>\n",
       "    </tr>\n",
       "  </thead>\n",
       "  <tbody>\n",
       "    <tr>\n",
       "      <th>6151</th>\n",
       "      <td>2016-10-06 20:35:00-04:00</td>\n",
       "      <td>Brother Two</td>\n",
       "      <td>0 days 00:52:34</td>\n",
       "      <td>American Horror Story: Hotel: Mommy (Episode 3)</td>\n",
       "    </tr>\n",
       "    <tr>\n",
       "      <th>3452</th>\n",
       "      <td>2018-10-20 02:53:00-04:00</td>\n",
       "      <td>Brother Two</td>\n",
       "      <td>0 days 00:13:32</td>\n",
       "      <td>American Horror Story: Cult: Winter of Our Dis...</td>\n",
       "    </tr>\n",
       "    <tr>\n",
       "      <th>3445</th>\n",
       "      <td>2018-10-22 02:44:00-04:00</td>\n",
       "      <td>Brother Two</td>\n",
       "      <td>0 days 00:09:10</td>\n",
       "      <td>American Horror Story: Cult: Drink the Kool-Ai...</td>\n",
       "    </tr>\n",
       "    <tr>\n",
       "      <th>3434</th>\n",
       "      <td>2018-10-24 02:37:00-04:00</td>\n",
       "      <td>Brother Two</td>\n",
       "      <td>0 days 00:05:43</td>\n",
       "      <td>American Horror Story: Cult: Great Again (Epis...</td>\n",
       "    </tr>\n",
       "    <tr>\n",
       "      <th>3455</th>\n",
       "      <td>2018-10-19 02:31:00-04:00</td>\n",
       "      <td>Brother Two</td>\n",
       "      <td>0 days 00:06:10</td>\n",
       "      <td>American Horror Story: Cult: Holes (Episode 5)</td>\n",
       "    </tr>\n",
       "    <tr>\n",
       "      <th>6146</th>\n",
       "      <td>2016-10-07 16:27:00-04:00</td>\n",
       "      <td>Brother Two</td>\n",
       "      <td>0 days 00:00:11</td>\n",
       "      <td>American Horror Story: Hotel: Room Service (Ep...</td>\n",
       "    </tr>\n",
       "    <tr>\n",
       "      <th>6147</th>\n",
       "      <td>2016-10-07 15:38:00-04:00</td>\n",
       "      <td>Brother Two</td>\n",
       "      <td>0 days 00:48:20</td>\n",
       "      <td>American Horror Story: Hotel: Devil's Night (E...</td>\n",
       "    </tr>\n",
       "    <tr>\n",
       "      <th>3436</th>\n",
       "      <td>2018-10-23 03:20:00-04:00</td>\n",
       "      <td>Brother Two</td>\n",
       "      <td>0 days 00:01:02</td>\n",
       "      <td>American Horror Story: Cult: Charles (Manson) ...</td>\n",
       "    </tr>\n",
       "    <tr>\n",
       "      <th>33842</th>\n",
       "      <td>2018-09-26 20:43:00-04:00</td>\n",
       "      <td>Me</td>\n",
       "      <td>0 days 00:00:02</td>\n",
       "      <td>American Horror Story: Coven: Fearful Pranks E...</td>\n",
       "    </tr>\n",
       "    <tr>\n",
       "      <th>7428</th>\n",
       "      <td>2021-07-13 00:55:00-04:00</td>\n",
       "      <td>Brother One</td>\n",
       "      <td>0 days 00:00:06</td>\n",
       "      <td>American Horror Story: Apocalypse_hook_primary...</td>\n",
       "    </tr>\n",
       "    <tr>\n",
       "      <th>32298</th>\n",
       "      <td>2020-11-26 19:53:00-05:00</td>\n",
       "      <td>Me</td>\n",
       "      <td>0 days 00:00:07</td>\n",
       "      <td>American Horror Story: Cult_hook_01_16x9</td>\n",
       "    </tr>\n",
       "    <tr>\n",
       "      <th>6138</th>\n",
       "      <td>2016-10-08 14:39:00-04:00</td>\n",
       "      <td>Brother Two</td>\n",
       "      <td>0 days 00:49:33</td>\n",
       "      <td>American Horror Story: Hotel: Be Our Guest (Ep...</td>\n",
       "    </tr>\n",
       "    <tr>\n",
       "      <th>34560</th>\n",
       "      <td>2017-12-03 16:29:00-05:00</td>\n",
       "      <td>Me</td>\n",
       "      <td>0 days 00:00:10</td>\n",
       "      <td>American Horror Story: Coven: The Replacements...</td>\n",
       "    </tr>\n",
       "    <tr>\n",
       "      <th>34586</th>\n",
       "      <td>2017-10-05 16:47:00-04:00</td>\n",
       "      <td>Me</td>\n",
       "      <td>0 days 00:50:41</td>\n",
       "      <td>American Horror Story: Murder House: Afterbirt...</td>\n",
       "    </tr>\n",
       "    <tr>\n",
       "      <th>6140</th>\n",
       "      <td>2016-10-08 12:48:00-04:00</td>\n",
       "      <td>Brother Two</td>\n",
       "      <td>0 days 00:49:57</td>\n",
       "      <td>American Horror Story: Hotel: She Gets Revenge...</td>\n",
       "    </tr>\n",
       "    <tr>\n",
       "      <th>6142</th>\n",
       "      <td>2016-10-08 10:12:00-04:00</td>\n",
       "      <td>Brother Two</td>\n",
       "      <td>0 days 00:45:58</td>\n",
       "      <td>American Horror Story: Hotel: Ten Commandments...</td>\n",
       "    </tr>\n",
       "    <tr>\n",
       "      <th>6154</th>\n",
       "      <td>2016-10-05 15:47:00-04:00</td>\n",
       "      <td>Brother Two</td>\n",
       "      <td>0 days 00:06:08</td>\n",
       "      <td>American Horror Story: Hotel: Chutes and Ladde...</td>\n",
       "    </tr>\n",
       "    <tr>\n",
       "      <th>3456</th>\n",
       "      <td>2018-10-19 01:11:00-04:00</td>\n",
       "      <td>Brother Two</td>\n",
       "      <td>0 days 00:33:30</td>\n",
       "      <td>American Horror Story: Cult: Holes (Episode 5)</td>\n",
       "    </tr>\n",
       "    <tr>\n",
       "      <th>3469</th>\n",
       "      <td>2018-10-13 00:25:00-04:00</td>\n",
       "      <td>Brother Two</td>\n",
       "      <td>0 days 00:00:28</td>\n",
       "      <td>American Horror Story: Roanoke: Chapter 1 (Epi...</td>\n",
       "    </tr>\n",
       "    <tr>\n",
       "      <th>3446</th>\n",
       "      <td>2018-10-22 00:49:00-04:00</td>\n",
       "      <td>Brother Two</td>\n",
       "      <td>0 days 00:22:18</td>\n",
       "      <td>American Horror Story: Cult: Drink the Kool-Ai...</td>\n",
       "    </tr>\n",
       "  </tbody>\n",
       "</table>\n",
       "</div>"
      ],
      "text/plain": [
       "                     Start Time Profile Name        Duration  \\\n",
       "6151  2016-10-06 20:35:00-04:00  Brother Two 0 days 00:52:34   \n",
       "3452  2018-10-20 02:53:00-04:00  Brother Two 0 days 00:13:32   \n",
       "3445  2018-10-22 02:44:00-04:00  Brother Two 0 days 00:09:10   \n",
       "3434  2018-10-24 02:37:00-04:00  Brother Two 0 days 00:05:43   \n",
       "3455  2018-10-19 02:31:00-04:00  Brother Two 0 days 00:06:10   \n",
       "6146  2016-10-07 16:27:00-04:00  Brother Two 0 days 00:00:11   \n",
       "6147  2016-10-07 15:38:00-04:00  Brother Two 0 days 00:48:20   \n",
       "3436  2018-10-23 03:20:00-04:00  Brother Two 0 days 00:01:02   \n",
       "33842 2018-09-26 20:43:00-04:00           Me 0 days 00:00:02   \n",
       "7428  2021-07-13 00:55:00-04:00  Brother One 0 days 00:00:06   \n",
       "32298 2020-11-26 19:53:00-05:00           Me 0 days 00:00:07   \n",
       "6138  2016-10-08 14:39:00-04:00  Brother Two 0 days 00:49:33   \n",
       "34560 2017-12-03 16:29:00-05:00           Me 0 days 00:00:10   \n",
       "34586 2017-10-05 16:47:00-04:00           Me 0 days 00:50:41   \n",
       "6140  2016-10-08 12:48:00-04:00  Brother Two 0 days 00:49:57   \n",
       "6142  2016-10-08 10:12:00-04:00  Brother Two 0 days 00:45:58   \n",
       "6154  2016-10-05 15:47:00-04:00  Brother Two 0 days 00:06:08   \n",
       "3456  2018-10-19 01:11:00-04:00  Brother Two 0 days 00:33:30   \n",
       "3469  2018-10-13 00:25:00-04:00  Brother Two 0 days 00:00:28   \n",
       "3446  2018-10-22 00:49:00-04:00  Brother Two 0 days 00:22:18   \n",
       "\n",
       "                                                   Title  \n",
       "6151     American Horror Story: Hotel: Mommy (Episode 3)  \n",
       "3452   American Horror Story: Cult: Winter of Our Dis...  \n",
       "3445   American Horror Story: Cult: Drink the Kool-Ai...  \n",
       "3434   American Horror Story: Cult: Great Again (Epis...  \n",
       "3455      American Horror Story: Cult: Holes (Episode 5)  \n",
       "6146   American Horror Story: Hotel: Room Service (Ep...  \n",
       "6147   American Horror Story: Hotel: Devil's Night (E...  \n",
       "3436   American Horror Story: Cult: Charles (Manson) ...  \n",
       "33842  American Horror Story: Coven: Fearful Pranks E...  \n",
       "7428   American Horror Story: Apocalypse_hook_primary...  \n",
       "32298           American Horror Story: Cult_hook_01_16x9  \n",
       "6138   American Horror Story: Hotel: Be Our Guest (Ep...  \n",
       "34560  American Horror Story: Coven: The Replacements...  \n",
       "34586  American Horror Story: Murder House: Afterbirt...  \n",
       "6140   American Horror Story: Hotel: She Gets Revenge...  \n",
       "6142   American Horror Story: Hotel: Ten Commandments...  \n",
       "6154   American Horror Story: Hotel: Chutes and Ladde...  \n",
       "3456      American Horror Story: Cult: Holes (Episode 5)  \n",
       "3469   American Horror Story: Roanoke: Chapter 1 (Epi...  \n",
       "3446   American Horror Story: Cult: Drink the Kool-Ai...  "
      ]
     },
     "execution_count": 10,
     "metadata": {},
     "output_type": "execute_result"
    }
   ],
   "source": [
    "# create a new datafrom called American Horror Story (ahs) that pulls from df\n",
    "# pulls only rows with the Title column containing American Horror Story\n",
    "ahs = df[df['Title'].str.contains('American Horror Story', regex=False)]\n",
    "ahs.sample(20)"
   ]
  },
  {
   "cell_type": "code",
   "execution_count": 12,
   "metadata": {},
   "outputs": [],
   "source": [
    "# removes views under 1 min to filter out trailers\n",
    "ahs = ahs[(ahs['Duration'] > '0 days 00:01:00')]"
   ]
  },
  {
   "cell_type": "code",
   "execution_count": 13,
   "metadata": {},
   "outputs": [
    {
     "data": {
      "text/plain": [
       "Timedelta('0 days 22:38:56')"
      ]
     },
     "execution_count": 13,
     "metadata": {},
     "output_type": "execute_result"
    }
   ],
   "source": [
    "# sums ahs watch time\n",
    "ahs['Duration'].sum()"
   ]
  },
  {
   "cell_type": "code",
   "execution_count": 18,
   "metadata": {},
   "outputs": [],
   "source": [
    "ahs['weekday'] = ahs['Start Time'].dt.weekday\n",
    "ahs['hour'] = ahs['Start Time'].dt.hour"
   ]
  },
  {
   "cell_type": "code",
   "execution_count": 19,
   "metadata": {},
   "outputs": [
    {
     "data": {
      "text/plain": [
       "<AxesSubplot:title={'center':'AHS Episodes Watched by Day'}>"
      ]
     },
     "execution_count": 19,
     "metadata": {},
     "output_type": "execute_result"
    },
    {
     "data": {
      "image/png": "[encoded data removed]",
      "text/plain": [
       "<Figure size 1440x720 with 1 Axes>"
      ]
     },
     "metadata": {
      "needs_background": "light"
     },
     "output_type": "display_data"
    }
   ],
   "source": [
    "# set our categorical and define the order so the days are plotted Monday-Sunday\n",
    "ahs['weekday'] = pd.Categorical(ahs['weekday'], categories=\n",
    "    [0,1,2,3,4,5,6],\n",
    "    ordered=True)\n",
    "\n",
    "# create office_by_day and count the rows for each weekday, assigning the result to that variable\n",
    "ahs_by_day = ahs['weekday'].value_counts()\n",
    "\n",
    "# sort the index using our categorical, so that Monday (0) is first, Tuesday (1) is second, etc.\n",
    "ahs_by_day = ahs_by_day.sort_index()\n",
    "\n",
    "# optional: update the font size to make it a bit larger and easier to read\n",
    "matplotlib.rcParams.update({'font.size': 22})\n",
    "\n",
    "# plot office_by_day as a bar chart with the listed size and title\n",
    "ahs_by_day.plot(kind='bar', figsize=(20,10), title='AHS Episodes Watched by Day')"
   ]
  },
  {
   "cell_type": "code",
   "execution_count": null,
   "metadata": {},
   "outputs": [],
   "source": [
    "def myfunction():\n",
    "    users = ['Me', 'Mother', 'Sister']\n",
    "    for i in users:"
   ]
  }
 ],
 "metadata": {
  "interpreter": {
   "hash": "b3ba2566441a7c06988d0923437866b63cedc61552a5af99d1f4fb67d367b25f"
  },
  "kernelspec": {
   "display_name": "Python 3.9.7 64-bit ('base': conda)",
   "language": "python",
   "name": "python3"
  },
  "language_info": {
   "codemirror_mode": {
    "name": "ipython",
    "version": 3
   },
   "file_extension": ".py",
   "mimetype": "text/x-python",
   "name": "python",
   "nbconvert_exporter": "python",
   "pygments_lexer": "ipython3",
   "version": "3.9.7"
  },
  "orig_nbformat": 4
 },
 "nbformat": 4,
 "nbformat_minor": 2
}
